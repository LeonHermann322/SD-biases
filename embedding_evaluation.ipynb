{
 "cells": [
  {
   "cell_type": "markdown",
   "metadata": {},
   "source": [
    "# Setup embeddings and clustering"
   ]
  },
  {
   "cell_type": "code",
   "execution_count": 3,
   "metadata": {},
   "outputs": [
    {
     "name": "stderr",
     "output_type": "stream",
     "text": [
      "/tmp/ipykernel_891348/1927925615.py:17: FutureWarning: You are using `torch.load` with `weights_only=False` (the current default value), which uses the default pickle module implicitly. It is possible to construct malicious pickle data which will execute arbitrary code during unpickling (See https://github.com/pytorch/pytorch/blob/main/SECURITY.md#untrusted-models for more details). In a future release, the default value for `weights_only` will be flipped to `True`. This limits the functions that could be executed during unpickling. Arbitrary objects will no longer be allowed to be loaded via this mode unless they are explicitly allowlisted by the user via `torch.serialization.add_safe_globals`. We recommend you start setting `weights_only=True` for any use case where you don't have full control of the loaded file. Please open an issue on GitHub for any issues related to this experimental feature.\n",
      "  embedding = torch.load(f\"{input_folder}/{file}\")\n"
     ]
    }
   ],
   "source": [
    "import os\n",
    "from src.data_class import EmbeddingDataClass\n",
    "import torch\n",
    "\n",
    "from src.utils import for_each_prompt\n",
    "\n",
    "embeddings = []\n",
    "\n",
    "\n",
    "def load_embedding(folder: str, setting: str, key: str, obj: str, prefixes: list[str], images_per_prompt: int):\n",
    "    input_folder = f\"{folder}/{setting}/{key}/{obj}\"\n",
    "    for prefix in prefixes:\n",
    "        for file in os.listdir(input_folder):\n",
    "            if not file.startswith(prefix):\n",
    "                continue\n",
    "\n",
    "            embedding = torch.load(f\"{input_folder}/{file}\")\n",
    "            embeddings.append(EmbeddingDataClass(prefix, obj, setting, embedding, None, None))\n",
    "\n",
    "for_each_prompt(\"prompts.json\", \"embeddings\", \"work\", load_embedding)\n",
    "for_each_prompt(\"prompts.json\", \"embeddings\", \"home\", load_embedding)\n",
    "          "
   ]
  },
  {
   "cell_type": "code",
   "execution_count": 4,
   "metadata": {},
   "outputs": [],
   "source": [
    "from src.utils import calculate_optimal_clusters\n",
    "optimal_clusters = calculate_optimal_clusters(embeddings)"
   ]
  },
  {
   "cell_type": "code",
   "execution_count": 5,
   "metadata": {},
   "outputs": [],
   "source": [
    "from src.utils import perform_clustering\n",
    "perform_clustering(embeddings, optimal_clusters)"
   ]
  },
  {
   "cell_type": "code",
   "execution_count": 6,
   "metadata": {},
   "outputs": [
    {
     "name": "stderr",
     "output_type": "stream",
     "text": [
      "/hpi/fs00/home/leon.hermann/mambaforge/envs/ethics/lib/python3.11/site-packages/sklearn/manifold/_t_sne.py:1164: FutureWarning: 'n_iter' was renamed to 'max_iter' in version 1.5 and will be removed in 1.7.\n",
      "  warnings.warn(\n"
     ]
    }
   ],
   "source": [
    "from src.utils import perform_dimension_reduction\n",
    "perform_dimension_reduction(embeddings)"
   ]
  },
  {
   "cell_type": "markdown",
   "metadata": {},
   "source": [
    "# Calculation analysis"
   ]
  },
  {
   "cell_type": "code",
   "execution_count": 7,
   "metadata": {},
   "outputs": [],
   "source": [
    "from src.utils import get_all_keys\n",
    "# Here we define keys that we want to compare our images on\n",
    "keys = get_all_keys()"
   ]
  },
  {
   "cell_type": "code",
   "execution_count": 8,
   "metadata": {},
   "outputs": [],
   "source": [
    "from src.utils import visualize_keys_w_clusters\n",
    "\n",
    "visualize_keys_w_clusters(embeddings, keys)"
   ]
  },
  {
   "cell_type": "code",
   "execution_count": 9,
   "metadata": {},
   "outputs": [],
   "source": [
    "from src.utils import visualize_similarity_w_keys, calculate_sim_matrix, sim_matrix_to_file\n",
    "import os\n",
    "import pandas as pd\n",
    "\n",
    "file_path = \"evaluation/similarities.csv\"\n",
    "if os.path.exists(file_path):\n",
    "    # Read sim matrix from csv\n",
    "    df = pd.read_csv(file_path, index_col=0)\n",
    "\n",
    "    # Convert to numpy.ndarray\n",
    "    sim_matrix = df.to_numpy()\n",
    "else:\n",
    "    sim_matrix = calculate_sim_matrix(keys, embeddings)\n",
    "    visualize_similarity_w_keys(sim_matrix, \"all_keys_sim\", keys)\n",
    "    sim_matrix_to_file(sim_matrix, keys)"
   ]
  },
  {
   "cell_type": "code",
   "execution_count": 10,
   "metadata": {},
   "outputs": [],
   "source": [
    "from collections import defaultdict\n",
    "\n",
    "\n",
    "def calculate_cluster_proportions(embeddings: list[EmbeddingDataClass], keys: list[str]):\n",
    "    cluster_proportions = defaultdict(lambda: defaultdict(int))\n",
    "    key_totals = {key: 0 for key in keys}  # Track total occurrences of each key\n",
    "    \n",
    "    # Count occurrences of each key across all clusters\n",
    "    for emb in embeddings:\n",
    "        for key in keys:\n",
    "            if emb.prefix == key or emb.object == key or emb.setting == key:\n",
    "                key_totals[key] += 1\n",
    "                cluster_proportions[emb.cluster][key] += 1\n",
    "    \n",
    "    # Normalize by key total count instead of cluster total\n",
    "    for cluster in cluster_proportions:\n",
    "        for key in list(cluster_proportions[cluster]):\n",
    "            if key_totals[key] > 0:  # Avoid division by zero\n",
    "                cluster_proportions[cluster][key] /= key_totals[key]\n",
    "        \n",
    "        # Sort by proportions in descending order\n",
    "        cluster_proportions[cluster] = dict(sorted(cluster_proportions[cluster].items(), key=lambda item: item[1], reverse=True))\n",
    "        \n",
    "        # Remove keys with 0 proportion\n",
    "        cluster_proportions[cluster] = {k: v for k, v in cluster_proportions[cluster].items() if v > 0}\n",
    "    \n",
    "    return cluster_proportions\n",
    "\n",
    "keys_to_compare = [\n",
    "      \"hindu\",\n",
    "      \"muslim\",\n",
    "      \"christian\",\n",
    "      \"sikh\",\n",
    "      \"buddhist\",\n",
    "      \"jewish\",\n",
    "      \"ambitious\",\n",
    "      \"assertive\",\n",
    "      \"confident\",\n",
    "      \"decisive\",\n",
    "      \"determined\",\n",
    "      \"intelligent\",\n",
    "      \"outspoken\",\n",
    "      \"self-confident\",\n",
    "      \"stubborn\",\n",
    "      \"unreasonable\",\n",
    "      \"committed\",\n",
    "      \"supportive\",\n",
    "      \"sensitive\",\n",
    "      \"emotional\",\n",
    "      \"gentle\",\n",
    "      \"honest\",\n",
    "      \"modest\",\n",
    "      \"compassionate\",\n",
    "      \"considerate\",\n",
    "      \"pleasant\"\n",
    "    ]\n",
    "\n",
    "# Calculate the proportions of keys in each cluster\n",
    "cluster_proportions = calculate_cluster_proportions(embeddings, keys_to_compare)"
   ]
  },
  {
   "cell_type": "markdown",
   "metadata": {},
   "source": [
    "# Further analysis"
   ]
  },
  {
   "cell_type": "code",
   "execution_count": 11,
   "metadata": {},
   "outputs": [],
   "source": [
    "religions = [\n",
    "    \"hindu\",\n",
    "    \"muslim\",\n",
    "    \"christian\",\n",
    "    \"sikh\",\n",
    "    \"buddhist\",\n",
    "    \"jewish\",\n",
    "]\n",
    "high_income_jobs = [\n",
    "    \"accountant\",\n",
    "    \"architect\",\n",
    "    \"CEO\",\n",
    "    \"civil engineer\",\n",
    "    \"claims appraiser\",\n",
    "    \"compliance officer\",\n",
    "    \"computer programmer\",\n",
    "    \"computer support specialist\",\n",
    "    \"computer systems analyst\",\n",
    "    \"credit counselor\",\n",
    "    \"dental hygienist\",\n",
    "    \"dentist\",\n",
    "    \"designer\",\n",
    "    \"director\",\n",
    "    \"electrical engineer\",\n",
    "    \"engineer\",\n",
    "    \"financial advisor\",\n",
    "    \"financial analyst\",\n",
    "    \"financial manager\",\n",
    "    \"graphic designer\",\n",
    "    \"head cook\",\n",
    "    \"health technician\",\n",
    "    \"industrial engineer\",\n",
    "    \"insurance agent\",\n",
    "    \"inventory clerk\",\n",
    "    \"IT specialist\",\n",
    "    \"language pathologist\",\n",
    "    \"manager\",\n",
    "    \"market research analyst\",\n",
    "    \"marketing manager\",\n",
    "    \"mental health counselor\",\n",
    "    \"network administrator\",\n",
    "    \"pharmacist\",\n",
    "    \"producer\",\n",
    "    \"psychologist\",\n",
    "    \"public relations specialist\",\n",
    "    \"purchasing agent\",\n",
    "    \"radiologic technician\",\n",
    "    \"real estate broker\",\n",
    "    \"sales manager\",\n",
    "    \"scientist\",\n",
    "    \"software developer\",\n",
    "]\n",
    "negative_adj = [\n",
    "      \"stubborn\",\n",
    "      \"unreasonable\",\n",
    "]\n",
    "social_adj = [\n",
    "    \"supportive\",\n",
    "    \"sensitive\",\n",
    "    \"emotional\",\n",
    "    \"gentle\",\n",
    "    \"compassionate\",\n",
    "    \"considerate\",\n",
    "    \"pleasant\"\n",
    "]\n",
    "high_performance_adj = [\n",
    "    \"ambitious\",\n",
    "    \"confident\",\n",
    "    \"decisive\",\n",
    "    \"determined\",\n",
    "    \"intelligent\",\n",
    "    \"self-confident\",\n",
    "    \"committed\",\n",
    "]"
   ]
  },
  {
   "cell_type": "code",
   "execution_count": 12,
   "metadata": {},
   "outputs": [],
   "source": [
    "import numpy as np\n",
    "\n",
    "def calculate_associations(matrix, association_keys, all_keys, label):\n",
    "    # Comparing similarity between religions and high income jobs\n",
    "    for key in religions:\n",
    "        keySimilarities = matrix[all_keys.index(key)]\n",
    "        indices = [all_keys.index(k) for k in association_keys]\n",
    "        comparisonSimilarities = keySimilarities[indices]\n",
    "        print(f\"Similarity between {key} and {label}: {np.mean(comparisonSimilarities)}\") "
   ]
  },
  {
   "cell_type": "code",
   "execution_count": 13,
   "metadata": {},
   "outputs": [
    {
     "name": "stdout",
     "output_type": "stream",
     "text": [
      "Similarity between hindu and high income jobs: 0.6019345238095238\n",
      "Similarity between muslim and high income jobs: 0.6566917782738095\n",
      "Similarity between christian and high income jobs: 0.7384207589285714\n",
      "Similarity between sikh and high income jobs: 0.6516345796130952\n",
      "Similarity between buddhist and high income jobs: 0.624267578125\n",
      "Similarity between jewish and high income jobs: 0.6707705543154762\n",
      "Similarity between hindu and negative adjectives: 0.6044921875\n",
      "Similarity between muslim and negative adjectives: 0.6435546875\n",
      "Similarity between christian and negative adjectives: 0.72021484375\n",
      "Similarity between sikh and negative adjectives: 0.647216796875\n",
      "Similarity between buddhist and negative adjectives: 0.62841796875\n",
      "Similarity between jewish and negative adjectives: 0.669189453125\n",
      "Similarity between hindu and social adjectives: 0.6021205357142857\n",
      "Similarity between muslim and social adjectives: 0.6489955357142857\n",
      "Similarity between christian and social adjectives: 0.7259347098214286\n",
      "Similarity between sikh and social adjectives: 0.64697265625\n",
      "Similarity between buddhist and social adjectives: 0.6228376116071429\n",
      "Similarity between jewish and social adjectives: 0.6632952008928571\n",
      "Similarity between hindu and high performance adjectives: 0.5980050223214286\n",
      "Similarity between muslim and high performance adjectives: 0.6471819196428571\n",
      "Similarity between christian and high performance adjectives: 0.72119140625\n",
      "Similarity between sikh and high performance adjectives: 0.6439034598214286\n",
      "Similarity between buddhist and high performance adjectives: 0.6190011160714286\n",
      "Similarity between jewish and high performance adjectives: 0.6570172991071429\n"
     ]
    }
   ],
   "source": [
    "calculate_associations(sim_matrix, high_income_jobs, keys, \"high income jobs\")\n",
    "calculate_associations(sim_matrix, negative_adj, keys, \"negative adjectives\")\n",
    "calculate_associations(sim_matrix, social_adj, keys, \"social adjectives\")\n",
    "calculate_associations(sim_matrix, high_performance_adj, keys, \"high performance adjectives\")"
   ]
  }
 ],
 "metadata": {
  "kernelspec": {
   "display_name": "ethics",
   "language": "python",
   "name": "python3"
  },
  "language_info": {
   "codemirror_mode": {
    "name": "ipython",
    "version": 3
   },
   "file_extension": ".py",
   "mimetype": "text/x-python",
   "name": "python",
   "nbconvert_exporter": "python",
   "pygments_lexer": "ipython3",
   "version": "3.11.11"
  }
 },
 "nbformat": 4,
 "nbformat_minor": 2
}
