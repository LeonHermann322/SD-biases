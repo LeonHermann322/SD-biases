{
 "cells": [
  {
   "cell_type": "code",
   "execution_count": 1,
   "metadata": {},
   "outputs": [
    {
     "name": "stderr",
     "output_type": "stream",
     "text": [
      "/tmp/ipykernel_3188231/1953572579.py:18: FutureWarning: You are using `torch.load` with `weights_only=False` (the current default value), which uses the default pickle module implicitly. It is possible to construct malicious pickle data which will execute arbitrary code during unpickling (See https://github.com/pytorch/pytorch/blob/main/SECURITY.md#untrusted-models for more details). In a future release, the default value for `weights_only` will be flipped to `True`. This limits the functions that could be executed during unpickling. Arbitrary objects will no longer be allowed to be loaded via this mode unless they are explicitly allowlisted by the user via `torch.serialization.add_safe_globals`. We recommend you start setting `weights_only=True` for any use case where you don't have full control of the loaded file. Please open an issue on GitHub for any issues related to this experimental feature.\n",
      "  embedding = torch.load(f\"{input_folder}/{file}\")\n"
     ]
    }
   ],
   "source": [
    "from sklearn.cluster import AgglomerativeClustering\n",
    "import os\n",
    "from src.data_class import EmbeddingDataClass\n",
    "import torch\n",
    "\n",
    "from src.utils import for_each_prompt\n",
    "\n",
    "embeddings = []\n",
    "\n",
    "\n",
    "def load_embedding(folder: str, key: str, obj: str, prefixes: list[str]):\n",
    "    input_folder = f\"{folder}/{key}/{obj}\"\n",
    "    for prefix in prefixes:\n",
    "        for file in os.listdir(input_folder):\n",
    "            if not file.startswith(prefix):\n",
    "                continue\n",
    "\n",
    "            embedding = torch.load(f\"{input_folder}/{file}\")\n",
    "            embeddings.append(EmbeddingDataClass(prefix, obj, embedding, None, None))\n",
    "\n",
    "for_each_prompt(\"prompts.json\", \"embeddings\", load_embedding)\n",
    "          "
   ]
  },
  {
   "cell_type": "code",
   "execution_count": 2,
   "metadata": {},
   "outputs": [],
   "source": [
    "clustering = AgglomerativeClustering(n_clusters=24, linkage=\"ward\")"
   ]
  },
  {
   "cell_type": "code",
   "execution_count": 5,
   "metadata": {},
   "outputs": [],
   "source": [
    "embeddings_stacked = torch.stack([embedding.embedding for embedding in embeddings]).squeeze().numpy()\n",
    "\n",
    "cluster_labels = clustering.fit_predict(embeddings_stacked)\n",
    "\n",
    "for i, embedding in enumerate(embeddings):\n",
    "    embedding.cluster = cluster_labels[i]"
   ]
  },
  {
   "cell_type": "code",
   "execution_count": 10,
   "metadata": {},
   "outputs": [
    {
     "name": "stderr",
     "output_type": "stream",
     "text": [
      "/hpi/fs00/home/leon.hermann/mambaforge/envs/ethics/lib/python3.11/site-packages/sklearn/manifold/_t_sne.py:1164: FutureWarning: 'n_iter' was renamed to 'max_iter' in version 1.5 and will be removed in 1.7.\n",
      "  warnings.warn(\n"
     ]
    },
    {
     "data": {
      "image/png": "[encoded data removed]",
      "text/plain": [
       "<Figure size 640x480 with 1 Axes>"
      ]
     },
     "metadata": {},
     "output_type": "display_data"
    }
   ],
   "source": [
    "# Visualize clusters with t-SNE\n",
    "from sklearn.manifold import TSNE\n",
    "import matplotlib.pyplot as plt\n",
    "import numpy as np\n",
    "\n",
    "tsne = TSNE(n_components=2, perplexity=30, n_iter=300)\n",
    "tsne_embeddings = tsne.fit_transform(embeddings_stacked)\n",
    "\n",
    "for i, embedding in enumerate(embeddings):\n",
    "    embedding.reduced_dim_embedding = tsne_embeddings[i]\n",
    "\n",
    "filtered_embeddings = np.stack([embedding.reduced_dim_embedding for embedding in embeddings if embedding.object == \"man\"])\n",
    "filtered_clusters = [embedding.cluster for embedding in embeddings if embedding.object == \"man\"]\n",
    "\n",
    "plt.scatter(filtered_embeddings[:, 0], filtered_embeddings[:, 1], c=filtered_clusters)\n",
    "plt.show()"
   ]
  }
 ],
 "metadata": {
  "kernelspec": {
   "display_name": "ethics",
   "language": "python",
   "name": "python3"
  },
  "language_info": {
   "codemirror_mode": {
    "name": "ipython",
    "version": 3
   },
   "file_extension": ".py",
   "mimetype": "text/x-python",
   "name": "python",
   "nbconvert_exporter": "python",
   "pygments_lexer": "ipython3",
   "version": "3.11.11"
  }
 },
 "nbformat": 4,
 "nbformat_minor": 2
}
