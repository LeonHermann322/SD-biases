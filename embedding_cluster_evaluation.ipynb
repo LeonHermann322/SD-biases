{
 "cells": [
  {
   "cell_type": "markdown",
   "metadata": {},
   "source": [
    "# Setup embeddings and clustering"
   ]
  },
  {
   "cell_type": "code",
   "execution_count": 1,
   "metadata": {},
   "outputs": [
    {
     "name": "stderr",
     "output_type": "stream",
     "text": [
      "/tmp/ipykernel_4126989/1927925615.py:17: FutureWarning: You are using `torch.load` with `weights_only=False` (the current default value), which uses the default pickle module implicitly. It is possible to construct malicious pickle data which will execute arbitrary code during unpickling (See https://github.com/pytorch/pytorch/blob/main/SECURITY.md#untrusted-models for more details). In a future release, the default value for `weights_only` will be flipped to `True`. This limits the functions that could be executed during unpickling. Arbitrary objects will no longer be allowed to be loaded via this mode unless they are explicitly allowlisted by the user via `torch.serialization.add_safe_globals`. We recommend you start setting `weights_only=True` for any use case where you don't have full control of the loaded file. Please open an issue on GitHub for any issues related to this experimental feature.\n",
      "  embedding = torch.load(f\"{input_folder}/{file}\")\n"
     ]
    }
   ],
   "source": [
    "import os\n",
    "from src.data_class import EmbeddingDataClass\n",
    "import torch\n",
    "\n",
    "from src.utils import for_each_prompt\n",
    "\n",
    "embeddings = []\n",
    "\n",
    "\n",
    "def load_embedding(folder: str, setting: str, key: str, obj: str, prefixes: list[str], images_per_prompt: int):\n",
    "    input_folder = f\"{folder}/{setting}/{key}/{obj}\"\n",
    "    for prefix in prefixes:\n",
    "        for file in os.listdir(input_folder):\n",
    "            if not file.startswith(prefix):\n",
    "                continue\n",
    "\n",
    "            embedding = torch.load(f\"{input_folder}/{file}\")\n",
    "            embeddings.append(EmbeddingDataClass(prefix, obj, setting, embedding, None, None))\n",
    "\n",
    "for_each_prompt(\"prompts.json\", \"embeddings\", \"work\", load_embedding)\n",
    "for_each_prompt(\"prompts.json\", \"embeddings\", \"home\", load_embedding)\n",
    "          "
   ]
  },
  {
   "cell_type": "code",
   "execution_count": 2,
   "metadata": {},
   "outputs": [],
   "source": [
    "from src.utils import calculate_optimal_clusters\n",
    "optimal_clusters = calculate_optimal_clusters(embeddings)"
   ]
  },
  {
   "cell_type": "code",
   "execution_count": 3,
   "metadata": {},
   "outputs": [],
   "source": [
    "from src.utils import perform_clustering\n",
    "perform_clustering(embeddings, optimal_clusters)"
   ]
  },
  {
   "cell_type": "code",
   "execution_count": 4,
   "metadata": {},
   "outputs": [
    {
     "name": "stderr",
     "output_type": "stream",
     "text": [
      "/hpi/fs00/home/leon.hermann/mambaforge/envs/ethics/lib/python3.11/site-packages/sklearn/manifold/_t_sne.py:1164: FutureWarning: 'n_iter' was renamed to 'max_iter' in version 1.5 and will be removed in 1.7.\n",
      "  warnings.warn(\n"
     ]
    }
   ],
   "source": [
    "from src.utils import perform_dimension_reduction\n",
    "perform_dimension_reduction(embeddings)"
   ]
  },
  {
   "cell_type": "markdown",
   "metadata": {},
   "source": [
    "# Calculation analysis"
   ]
  },
  {
   "cell_type": "code",
   "execution_count": 5,
   "metadata": {},
   "outputs": [],
   "source": [
    "from src.utils import get_all_keys\n",
    "# Here we define keys that we want to compare our images on\n",
    "keys = get_all_keys()"
   ]
  },
  {
   "cell_type": "code",
   "execution_count": 6,
   "metadata": {},
   "outputs": [],
   "source": [
    "from src.utils import visualize_keys_w_clusters, visualize_all_keys_w_clusters\n",
    "\n",
    "visualize_all_keys_w_clusters(embeddings)\n",
    "visualize_keys_w_clusters(embeddings, keys)"
   ]
  },
  {
   "cell_type": "code",
   "execution_count": 7,
   "metadata": {},
   "outputs": [],
   "source": [
    "from collections import defaultdict\n",
    "\n",
    "\n",
    "def calculate_cluster_proportions(embeddings: list[EmbeddingDataClass]):\n",
    "    cluster_proportions = defaultdict(lambda: defaultdict(int))\n",
    "    key_totals = {}\n",
    "    \n",
    "    for emb in embeddings:\n",
    "        if emb.cluster not in cluster_proportions:\n",
    "            cluster_proportions[emb.cluster] = defaultdict(int)\n",
    "        if emb.prefix not in key_totals:\n",
    "            key_totals[emb.prefix] = 0\n",
    "        if emb.object not in key_totals:\n",
    "            key_totals[emb.object] = 0\n",
    "        if emb.setting not in key_totals:\n",
    "            key_totals[emb.setting] = 0\n",
    "\n",
    "        cluster_proportions[emb.cluster][emb.prefix] += 1\n",
    "        cluster_proportions[emb.cluster][emb.object] += 1\n",
    "        cluster_proportions[emb.cluster][emb.setting] += 1\n",
    "        key_totals[emb.prefix] += 1\n",
    "        key_totals[emb.object] += 1\n",
    "        key_totals[emb.setting] += 1\n",
    "    \n",
    "    # Normalize by key total count instead of cluster total\n",
    "    for cluster in cluster_proportions:\n",
    "        for key in list(cluster_proportions[cluster]):\n",
    "            if key_totals[key] > 0:  # Avoid division by zero\n",
    "                cluster_proportions[cluster][key] /= key_totals[key]\n",
    "        \n",
    "        # Sort by proportions in descending order\n",
    "        cluster_proportions[cluster] = dict(sorted(cluster_proportions[cluster].items(), key=lambda item: item[1], reverse=True))\n",
    "        \n",
    "        # Remove keys with 0 proportion\n",
    "        cluster_proportions[cluster] = {k: v for k, v in cluster_proportions[cluster].items() if v > 0}\n",
    "    \n",
    "    return cluster_proportions\n",
    "\n",
    "# Calculate the proportions of keys in each cluster\n",
    "cluster_proportions = calculate_cluster_proportions(embeddings)"
   ]
  },
  {
   "cell_type": "code",
   "execution_count": 17,
   "metadata": {},
   "outputs": [],
   "source": [
    "# Write cluster_proportions to json\n",
    "import json\n",
    "\n",
    "# Convert np.int64 keys to int\n",
    "cluster_proportions_serializable = {int(k): v for k, v in cluster_proportions.items()}\n",
    "\n",
    "# Sort by cluster number\n",
    "cluster_proportions_serializable = dict(sorted(cluster_proportions_serializable.items(), key=lambda item: item[0]))\n",
    "\n",
    "with open(\"evaluation/cluster_proportions.json\", \"w\") as f:\n",
    "    json.dump(cluster_proportions_serializable, f)"
   ]
  },
  {
   "cell_type": "code",
   "execution_count": 22,
   "metadata": {},
   "outputs": [],
   "source": [
    "# Write cluster proportions as a table and sort by cluster number\n",
    "import pandas as pd\n",
    "\n",
    "df = pd.DataFrame(cluster_proportions)\n",
    "# Sort by cluster number\n",
    "df = df.sort_index(axis=1)\n",
    "df = df.fillna(\"-\")\n",
    "df = df.round(2)\n",
    "df.to_csv(\"evaluation/cluster_proportions.csv\")\n",
    "df.to_latex(\"evaluation/cluster_proportions.tex\", na_rep=\"-\", float_format=\"%.2f\")"
   ]
  },
  {
   "cell_type": "markdown",
   "metadata": {},
   "source": [
    "# Further analysis"
   ]
  },
  {
   "cell_type": "code",
   "execution_count": 9,
   "metadata": {},
   "outputs": [],
   "source": [
    "religions = [\n",
    "    \"hindu\",\n",
    "    \"muslim\",\n",
    "    \"christian\",\n",
    "    \"sikh\",\n",
    "    \"buddhist\",\n",
    "    \"jewish\",\n",
    "]\n",
    "high_income_jobs = [\n",
    "    \"accountant\",\n",
    "    \"architect\",\n",
    "    \"CEO\",\n",
    "    \"civil engineer\",\n",
    "    \"claims appraiser\",\n",
    "    \"compliance officer\",\n",
    "    \"computer programmer\",\n",
    "    \"computer support specialist\",\n",
    "    \"computer systems analyst\",\n",
    "    \"credit counselor\",\n",
    "    \"dental hygienist\",\n",
    "    \"dentist\",\n",
    "    \"designer\",\n",
    "    \"director\",\n",
    "    \"electrical engineer\",\n",
    "    \"engineer\",\n",
    "    \"financial advisor\",\n",
    "    \"financial analyst\",\n",
    "    \"financial manager\",\n",
    "    \"graphic designer\",\n",
    "    \"head cook\",\n",
    "    \"health technician\",\n",
    "    \"industrial engineer\",\n",
    "    \"insurance agent\",\n",
    "    \"inventory clerk\",\n",
    "    \"IT specialist\",\n",
    "    \"language pathologist\",\n",
    "    \"manager\",\n",
    "    \"market research analyst\",\n",
    "    \"marketing manager\",\n",
    "    \"mental health counselor\",\n",
    "    \"network administrator\",\n",
    "    \"pharmacist\",\n",
    "    \"producer\",\n",
    "    \"psychologist\",\n",
    "    \"public relations specialist\",\n",
    "    \"purchasing agent\",\n",
    "    \"radiologic technician\",\n",
    "    \"real estate broker\",\n",
    "    \"sales manager\",\n",
    "    \"scientist\",\n",
    "    \"software developer\",\n",
    "]\n",
    "mechanical_jobs = [\n",
    "    \"aerospace engineer\",\n",
    "    \"air conditioning installer\",\n",
    "    \"career counselor\",\n",
    "    \"carpet installer\",\n",
    "    \"civil engineer\",\n",
    "    \"drywall installer\",\n",
    "    \"electrical engineer\",\n",
    "    \"engineer\",\n",
    "    \"facilities manager\",\n",
    "    \"farmer\",\n",
    "    \"groundskeeper\",\n",
    "    \"industrial engineer\",\n",
    "    \"jailer\",\n",
    "    \"machinery mechanic\",\n",
    "    \"machinist\",\n",
    "    \"mechanic\",\n",
    "    \"mechanical engineer\",\n",
    "    \"metal worker\",\n",
    "    \"plane mechanic\",\n",
    "    \"plumber\",\n",
    "    \"printing press operator\",\n",
    "    \"repair worker\",\n",
    "    \"roofer\",\n",
    "    \"sheet metal worker\",\n",
    "    \"tractor operator\",\n",
    "    \"welder\",\n",
    "]\n",
    "low_income_jobs = [\n",
    "    \"aide\",\n",
    "    \"baker\",\n",
    "    \"bartender\",\n",
    "    \"cashier\",\n",
    "    \"childcare worker\",\n",
    "    \"cleaner\",\n",
    "    \"cook\",\n",
    "    \"courier\",\n",
    "    \"fast food worker\",\n",
    "    \"groundskeeper\",\n",
    "    \"hairdresser\",\n",
    "    \"janitor\",\n",
    "    \"manicurist\",\n",
    "    \"mover\",\n",
    "    \"postal worker\",\n",
    "    \"security guard\",\n",
    "    \"social worker\",\n",
    "    \"taxi driver\",\n",
    "]\n",
    "creative_jobs = [\n",
    "    \"author\",\n",
    "    \"community manager\",\n",
    "    \"designer\",\n",
    "    \"event planner\",\n",
    "    \"graphic designer\",\n",
    "    \"interior designer\",\n",
    "    \"interviewer\",\n",
    "    \"painter\",\n",
    "    \"underwriter\",\n",
    "    \"writer\"\n",
    "]\n",
    "negative_adj = [\n",
    "    \"stubborn\",\n",
    "    \"unreasonable\",\n",
    "]\n",
    "social_adj = [\n",
    "    \"supportive\",\n",
    "    \"sensitive\",\n",
    "    \"emotional\",\n",
    "    \"gentle\",\n",
    "    \"compassionate\",\n",
    "    \"considerate\",\n",
    "    \"pleasant\"\n",
    "]\n",
    "high_performance_adj = [\n",
    "    \"ambitious\",\n",
    "    \"confident\",\n",
    "    \"decisive\",\n",
    "    \"determined\",\n",
    "    \"intelligent\",\n",
    "    \"self-confident\",\n",
    "    \"committed\",\n",
    "]"
   ]
  },
  {
   "cell_type": "code",
   "execution_count": 10,
   "metadata": {},
   "outputs": [],
   "source": [
    "from src.utils import visualize_key_comparisons\n",
    "\n",
    "for religion in religions:\n",
    "    visualize_key_comparisons(embeddings, religion, high_income_jobs, \"High income jobs\")\n",
    "    visualize_key_comparisons(embeddings, religion, mechanical_jobs, \"Mechanical jobs\")\n",
    "    visualize_key_comparisons(embeddings, religion, low_income_jobs, \"Low income jobs\")\n",
    "    visualize_key_comparisons(embeddings, religion, creative_jobs, \"Creative jobs\")\n",
    "    visualize_key_comparisons(embeddings, religion, negative_adj, \"Negative adjectives\")\n",
    "    visualize_key_comparisons(embeddings, religion, social_adj, \"Social adjectives\")\n",
    "    visualize_key_comparisons(embeddings, religion, high_performance_adj, \"High performance adjectives\")"
   ]
  }
 ],
 "metadata": {
  "kernelspec": {
   "display_name": "ethics",
   "language": "python",
   "name": "python3"
  },
  "language_info": {
   "codemirror_mode": {
    "name": "ipython",
    "version": 3
   },
   "file_extension": ".py",
   "mimetype": "text/x-python",
   "name": "python",
   "nbconvert_exporter": "python",
   "pygments_lexer": "ipython3",
   "version": "3.11.11"
  }
 },
 "nbformat": 4,
 "nbformat_minor": 2
}
