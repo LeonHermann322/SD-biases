{
 "cells": [
  {
   "cell_type": "code",
   "execution_count": 12,
   "metadata": {},
   "outputs": [
    {
     "name": "stderr",
     "output_type": "stream",
     "text": [
      "Loading pipeline components...: 100%|██████████| 6/6 [00:03<00:00,  1.92it/s]\n"
     ]
    }
   ],
   "source": [
    "from diffusers import StableDiffusionPipeline, EulerDiscreteScheduler\n",
    "import torch\n",
    "\n",
    "model_id = \"stabilityai/stable-diffusion-2\"\n",
    "\n",
    "scheduler = EulerDiscreteScheduler.from_pretrained(model_id, subfolder=\"scheduler\")\n",
    "pipeline = StableDiffusionPipeline.from_pretrained(model_id, scheduler=scheduler, torch_dtype=torch.float16)\n",
    "pipeline = pipeline.to('cuda')"
   ]
  },
  {
   "cell_type": "code",
   "execution_count": 13,
   "metadata": {},
   "outputs": [],
   "source": [
    "import json\n",
    "\n",
    "# Generate images\n",
    "with open(\"prompts.json\", \"r\") as f:\n",
    "    prompts = json.load(f)"
   ]
  },
  {
   "cell_type": "code",
   "execution_count": 16,
   "metadata": {},
   "outputs": [
    {
     "name": "stderr",
     "output_type": "stream",
     "text": [
      "100%|██████████| 50/50 [00:15<00:00,  3.27it/s]\n",
      "100%|██████████| 50/50 [00:15<00:00,  3.25it/s]\n",
      "100%|██████████| 50/50 [00:15<00:00,  3.23it/s]\n",
      "100%|██████████| 50/50 [00:15<00:00,  3.21it/s]\n",
      "100%|██████████| 50/50 [00:15<00:00,  3.19it/s]\n",
      "100%|██████████| 50/50 [00:15<00:00,  3.18it/s]\n",
      "100%|██████████| 50/50 [00:15<00:00,  3.16it/s]\n",
      "100%|██████████| 50/50 [00:15<00:00,  3.16it/s]\n",
      "100%|██████████| 50/50 [00:15<00:00,  3.16it/s]\n",
      "100%|██████████| 50/50 [00:15<00:00,  3.15it/s]\n",
      "100%|██████████| 50/50 [00:15<00:00,  3.15it/s]\n",
      "100%|██████████| 50/50 [00:15<00:00,  3.14it/s]\n",
      "100%|██████████| 50/50 [00:15<00:00,  3.14it/s]\n",
      "100%|██████████| 50/50 [00:15<00:00,  3.14it/s]\n",
      "100%|██████████| 50/50 [00:15<00:00,  3.14it/s]\n",
      "100%|██████████| 50/50 [00:15<00:00,  3.13it/s]\n",
      "100%|██████████| 50/50 [00:15<00:00,  3.13it/s]\n",
      "100%|██████████| 50/50 [00:15<00:00,  3.13it/s]\n",
      "100%|██████████| 50/50 [00:15<00:00,  3.13it/s]\n",
      "100%|██████████| 50/50 [00:15<00:00,  3.14it/s]\n",
      "100%|██████████| 50/50 [00:15<00:00,  3.13it/s]\n",
      "100%|██████████| 50/50 [00:15<00:00,  3.13it/s]\n",
      "100%|██████████| 50/50 [00:15<00:00,  3.13it/s]\n",
      "100%|██████████| 50/50 [00:15<00:00,  3.14it/s]\n",
      "100%|██████████| 50/50 [00:15<00:00,  3.13it/s]\n",
      "100%|██████████| 50/50 [00:15<00:00,  3.13it/s]\n",
      "100%|██████████| 50/50 [00:15<00:00,  3.13it/s]\n",
      "100%|██████████| 50/50 [00:15<00:00,  3.13it/s]\n",
      "100%|██████████| 50/50 [00:16<00:00,  3.12it/s]\n",
      "100%|██████████| 50/50 [00:16<00:00,  3.12it/s]\n",
      "100%|██████████| 50/50 [00:15<00:00,  3.13it/s]\n",
      "100%|██████████| 50/50 [00:15<00:00,  3.13it/s]\n",
      "100%|██████████| 50/50 [00:15<00:00,  3.13it/s]\n",
      "100%|██████████| 50/50 [00:15<00:00,  3.13it/s]\n",
      "100%|██████████| 50/50 [00:15<00:00,  3.13it/s]\n",
      "100%|██████████| 50/50 [00:15<00:00,  3.13it/s]\n",
      "100%|██████████| 50/50 [00:15<00:00,  3.13it/s]\n",
      "100%|██████████| 50/50 [00:15<00:00,  3.13it/s]\n",
      "100%|██████████| 50/50 [00:15<00:00,  3.13it/s]\n",
      "100%|██████████| 50/50 [00:15<00:00,  3.13it/s]\n",
      "100%|██████████| 50/50 [00:15<00:00,  3.13it/s]\n",
      "100%|██████████| 50/50 [00:15<00:00,  3.13it/s]\n",
      "100%|██████████| 50/50 [00:15<00:00,  3.13it/s]\n",
      "100%|██████████| 50/50 [00:15<00:00,  3.13it/s]\n",
      "100%|██████████| 50/50 [00:16<00:00,  3.12it/s]\n",
      "100%|██████████| 50/50 [00:15<00:00,  3.13it/s]\n",
      "100%|██████████| 50/50 [00:15<00:00,  3.13it/s]\n",
      "100%|██████████| 50/50 [00:15<00:00,  3.13it/s]\n"
     ]
    }
   ],
   "source": [
    "for element in prompts[\"prompts\"]:\n",
    "    prefixes = element[\"prefix\"]\n",
    "    objects = element[\"object\"]\n",
    "\n",
    "    for prefix in prefixes:\n",
    "        for obj in objects:\n",
    "            prompt = \"A photo portrait of a \" + prefix + \" \" + obj + \" at work\"\n",
    "            output = pipeline(prompt)\n",
    "            image = output.images[0]\n",
    "            image.save(f\"images/{prefix}_{obj}.png\")"
   ]
  }
 ],
 "metadata": {
  "kernelspec": {
   "display_name": "ethics",
   "language": "python",
   "name": "python3"
  },
  "language_info": {
   "codemirror_mode": {
    "name": "ipython",
    "version": 3
   },
   "file_extension": ".py",
   "mimetype": "text/x-python",
   "name": "python",
   "nbconvert_exporter": "python",
   "pygments_lexer": "ipython3",
   "version": "3.11.11"
  }
 },
 "nbformat": 4,
 "nbformat_minor": 2
}
