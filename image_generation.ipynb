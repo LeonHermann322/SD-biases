{
 "cells": [
  {
   "cell_type": "code",
   "execution_count": 1,
   "metadata": {},
   "outputs": [
    {
     "name": "stderr",
     "output_type": "stream",
     "text": [
      "/hpi/fs00/home/leon.hermann/mambaforge/envs/ethics/lib/python3.11/site-packages/tqdm/auto.py:21: TqdmWarning: IProgress not found. Please update jupyter and ipywidgets. See https://ipywidgets.readthedocs.io/en/stable/user_install.html\n",
      "  from .autonotebook import tqdm as notebook_tqdm\n",
      "WARNING[XFORMERS]: xFormers can't load C++/CUDA extensions. xFormers was built for:\n",
      "    PyTorch 2.5.1+cu121 with CUDA 1201 (you have 2.5.1)\n",
      "    Python  3.11.11 (you have 3.11.11)\n",
      "  Please reinstall xformers (see https://github.com/facebookresearch/xformers#installing-xformers)\n",
      "  Memory-efficient attention, SwiGLU, sparse and more won't be available.\n",
      "  Set XFORMERS_MORE_DETAILS=1 for more details\n",
      "Loading pipeline components...: 100%|██████████| 6/6 [00:41<00:00,  6.95s/it]\n"
     ]
    }
   ],
   "source": [
    "from diffusers import StableDiffusionPipeline, EulerDiscreteScheduler\n",
    "import torch\n",
    "\n",
    "model_id = \"stabilityai/stable-diffusion-2\"\n",
    "\n",
    "scheduler = EulerDiscreteScheduler.from_pretrained(model_id, subfolder=\"scheduler\")\n",
    "pipeline = StableDiffusionPipeline.from_pretrained(model_id, scheduler=scheduler, torch_dtype=torch.float16)\n",
    "pipeline = pipeline.to('cuda')"
   ]
  },
  {
   "cell_type": "code",
   "execution_count": 2,
   "metadata": {},
   "outputs": [],
   "source": [
    "import json\n",
    "\n",
    "# Generate images\n",
    "with open(\"prompts.json\", \"r\") as f:\n",
    "    prompts = json.load(f)"
   ]
  },
  {
   "cell_type": "code",
   "execution_count": 3,
   "metadata": {},
   "outputs": [
    {
     "name": "stderr",
     "output_type": "stream",
     "text": [
      "100%|██████████| 50/50 [00:15<00:00,  3.15it/s]\n",
      "100%|██████████| 50/50 [00:15<00:00,  3.31it/s]\n",
      "100%|██████████| 50/50 [00:15<00:00,  3.28it/s]\n",
      "100%|██████████| 50/50 [00:15<00:00,  3.26it/s]\n",
      "100%|██████████| 50/50 [00:15<00:00,  3.24it/s]\n",
      "100%|██████████| 50/50 [00:15<00:00,  3.22it/s]\n",
      "100%|██████████| 50/50 [00:15<00:00,  3.20it/s]\n",
      "100%|██████████| 50/50 [00:15<00:00,  3.18it/s]\n",
      "100%|██████████| 50/50 [00:15<00:00,  3.17it/s]\n",
      "100%|██████████| 50/50 [00:15<00:00,  3.16it/s]\n",
      "100%|██████████| 50/50 [00:15<00:00,  3.15it/s]\n",
      "100%|██████████| 50/50 [00:15<00:00,  3.15it/s]\n",
      "100%|██████████| 50/50 [00:15<00:00,  3.15it/s]\n",
      "100%|██████████| 50/50 [00:15<00:00,  3.14it/s]\n",
      "100%|██████████| 50/50 [00:15<00:00,  3.14it/s]\n",
      "100%|██████████| 50/50 [00:15<00:00,  3.14it/s]\n",
      "100%|██████████| 50/50 [00:15<00:00,  3.13it/s]\n",
      "100%|██████████| 50/50 [00:15<00:00,  3.14it/s]\n",
      "100%|██████████| 50/50 [00:15<00:00,  3.13it/s]\n",
      "100%|██████████| 50/50 [00:15<00:00,  3.13it/s]\n",
      "100%|██████████| 50/50 [00:15<00:00,  3.13it/s]\n",
      "100%|██████████| 50/50 [00:15<00:00,  3.13it/s]\n",
      "100%|██████████| 50/50 [00:15<00:00,  3.13it/s]\n",
      "100%|██████████| 50/50 [00:15<00:00,  3.13it/s]\n",
      "100%|██████████| 50/50 [00:15<00:00,  3.13it/s]\n",
      "100%|██████████| 50/50 [00:15<00:00,  3.13it/s]\n",
      "100%|██████████| 50/50 [00:16<00:00,  3.12it/s]\n",
      "100%|██████████| 50/50 [00:16<00:00,  3.12it/s]\n",
      "100%|██████████| 50/50 [00:16<00:00,  3.12it/s]\n",
      "100%|██████████| 50/50 [00:16<00:00,  3.12it/s]\n",
      "100%|██████████| 50/50 [00:16<00:00,  3.12it/s]\n",
      "100%|██████████| 50/50 [00:16<00:00,  3.12it/s]\n",
      "100%|██████████| 50/50 [00:16<00:00,  3.12it/s]\n",
      "100%|██████████| 50/50 [00:16<00:00,  3.12it/s]\n",
      "100%|██████████| 50/50 [00:16<00:00,  3.12it/s]\n",
      "100%|██████████| 50/50 [00:16<00:00,  3.12it/s]\n",
      "100%|██████████| 50/50 [00:16<00:00,  3.12it/s]\n",
      "100%|██████████| 50/50 [00:16<00:00,  3.12it/s]\n",
      "100%|██████████| 50/50 [00:16<00:00,  3.12it/s]\n",
      "100%|██████████| 50/50 [00:16<00:00,  3.12it/s]\n",
      "100%|██████████| 50/50 [00:16<00:00,  3.12it/s]\n",
      "100%|██████████| 50/50 [00:16<00:00,  3.12it/s]\n"
     ]
    }
   ],
   "source": [
    "for element in prompts[\"prompts\"]:\n",
    "    prefixes = element[\"prefix\"]\n",
    "    objects = element[\"object\"]\n",
    "\n",
    "    for prefix in prefixes:\n",
    "        for obj in objects:\n",
    "            prompt = \"A photo portrait of a \" + prefix + \" \" + obj + \" at work\"\n",
    "            output = pipeline(prompt)\n",
    "            for i, image in enumerate(output.images):\n",
    "                image.save(f\"images/{prefix}_{obj}_{i}.png\")"
   ]
  }
 ],
 "metadata": {
  "kernelspec": {
   "display_name": "ethics",
   "language": "python",
   "name": "python3"
  },
  "language_info": {
   "codemirror_mode": {
    "name": "ipython",
    "version": 3
   },
   "file_extension": ".py",
   "mimetype": "text/x-python",
   "name": "python",
   "nbconvert_exporter": "python",
   "pygments_lexer": "ipython3",
   "version": "3.11.11"
  }
 },
 "nbformat": 4,
 "nbformat_minor": 2
}
