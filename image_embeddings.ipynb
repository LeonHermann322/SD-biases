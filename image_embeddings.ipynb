{
 "cells": [
  {
   "cell_type": "code",
   "execution_count": 5,
   "metadata": {},
   "outputs": [
    {
     "name": "stderr",
     "output_type": "stream",
     "text": [
      "Loading checkpoint shards: 100%|██████████| 2/2 [00:02<00:00,  1.23s/it]\n"
     ]
    }
   ],
   "source": [
    "from transformers import AutoProcessor, Blip2ForConditionalGeneration\n",
    "import torch\n",
    "import os\n",
    "from accelerate.test_utils.testing import get_backend\n",
    "\n",
    "processor = AutoProcessor.from_pretrained(\"Salesforce/blip2-opt-2.7b\")\n",
    "model = Blip2ForConditionalGeneration.from_pretrained(\"Salesforce/blip2-opt-2.7b\", torch_dtype=torch.float16)\n",
    "device = 'cuda:1'\n",
    "model = model.to(device)"
   ]
  },
  {
   "cell_type": "code",
   "execution_count": 6,
   "metadata": {},
   "outputs": [],
   "source": [
    "def generate_embedding(image) -> torch.Tensor:\n",
    "    question = \"Based on visual cues in the image, what is the most likely religion of the person shown? Provide reasoning for your answer.\"\n",
    "    prompt = f\"Question: {question} Answer:\"\n",
    "    inputs = processor(image, text=prompt, return_tensors=\"pt\").to(device)\n",
    "    with torch.no_grad():\n",
    "        encoder_outputs = model.forward(**inputs)\n",
    "    token_embeddings =  encoder_outputs.vision_outputs.last_hidden_state\n",
    "    normalized_embeddings = torch.nn.functional.normalize(token_embeddings, p=2, dim=-1)\n",
    "    avg_embeddings = torch.mean(normalized_embeddings, dim=1)\n",
    "    return avg_embeddings.cpu()"
   ]
  },
  {
   "cell_type": "code",
   "execution_count": 7,
   "metadata": {},
   "outputs": [],
   "source": [
    "from PIL import Image\n",
    "\n",
    "def generate_embeddings(folder:str, setting: str, key: str, obj:str, prefixes: list[str], images_per_prompt: int) -> torch.Tensor:\n",
    "    input_folder_base = f\"{folder}/{setting}/{key}/{obj}\"\n",
    "    output_folder_base = f\"embeddings/{setting}/{key}/{obj}\"\n",
    "\n",
    "    if not os.path.exists(output_folder_base):\n",
    "                os.makedirs(output_folder_base)\n",
    "\n",
    "    for file_name in os.listdir(input_folder_base):\n",
    "        if file_name.endswith(\".png\"):\n",
    "            with open(os.path.join(input_folder_base, file_name), \"rb\") as f:\n",
    "                image = Image.open(f)\n",
    "                emb = generate_embedding(image)\n",
    "                output_file_name = f\"{output_folder_base}/{file_name.replace('.png', '.pt')}\"\n",
    "                torch.save(emb, output_file_name)\n",
    "        else:\n",
    "            continue"
   ]
  },
  {
   "cell_type": "code",
   "execution_count": 8,
   "metadata": {},
   "outputs": [],
   "source": [
    "from src.utils import for_each_prompt\n",
    "\n",
    "\n",
    "for_each_prompt(\"prompts.json\", \"images\", \"work\", generate_embeddings)\n",
    "for_each_prompt(\"prompts.json\", \"images\", \"home\", generate_embeddings)"
   ]
  }
 ],
 "metadata": {
  "kernelspec": {
   "display_name": "ethics",
   "language": "python",
   "name": "python3"
  },
  "language_info": {
   "codemirror_mode": {
    "name": "ipython",
    "version": 3
   },
   "file_extension": ".py",
   "mimetype": "text/x-python",
   "name": "python",
   "nbconvert_exporter": "python",
   "pygments_lexer": "ipython3",
   "version": "3.11.11"
  }
 },
 "nbformat": 4,
 "nbformat_minor": 2
}
