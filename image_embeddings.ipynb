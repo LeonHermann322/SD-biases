{
 "cells": [
  {
   "cell_type": "code",
   "execution_count": 1,
   "metadata": {},
   "outputs": [
    {
     "name": "stderr",
     "output_type": "stream",
     "text": [
      "/hpi/fs00/home/leon.hermann/mambaforge/envs/ethics/lib/python3.11/site-packages/tqdm/auto.py:21: TqdmWarning: IProgress not found. Please update jupyter and ipywidgets. See https://ipywidgets.readthedocs.io/en/stable/user_install.html\n",
      "  from .autonotebook import tqdm as notebook_tqdm\n",
      "Loading checkpoint shards: 100%|██████████| 2/2 [00:28<00:00, 14.35s/it]\n"
     ]
    }
   ],
   "source": [
    "from transformers import AutoProcessor, Blip2ForConditionalGeneration\n",
    "import torch\n",
    "import os\n",
    "from accelerate.test_utils.testing import get_backend\n",
    "\n",
    "processor = AutoProcessor.from_pretrained(\"Salesforce/blip2-opt-2.7b\")\n",
    "model = Blip2ForConditionalGeneration.from_pretrained(\"Salesforce/blip2-opt-2.7b\", torch_dtype=torch.float16)\n",
    "device, _, _ = get_backend()\n",
    "model = model.to(device)"
   ]
  },
  {
   "cell_type": "code",
   "execution_count": 2,
   "metadata": {},
   "outputs": [],
   "source": [
    "def generate_embedding(image) -> torch.Tensor:\n",
    "    question = \"What are the defining characteristics of the person shown in the image?\"\n",
    "    prompt = f\"Question: {question} Answer:\"\n",
    "    inputs = processor(image, text=prompt, return_tensors=\"pt\").to(device)\n",
    "    with torch.no_grad():\n",
    "        encoder_outputs = model.forward(**inputs)\n",
    "    token_embeddings =  encoder_outputs.vision_outputs.last_hidden_state\n",
    "    normalized_embeddings = torch.nn.functional.normalize(token_embeddings, p=2, dim=-1)\n",
    "    avg_embeddings = torch.mean(normalized_embeddings, dim=1)\n",
    "    return avg_embeddings.cpu()"
   ]
  },
  {
   "cell_type": "code",
   "execution_count": 8,
   "metadata": {},
   "outputs": [],
   "source": [
    "from PIL import Image\n",
    "\n",
    "def generate_embeddings(folder: str, key: str, obj: str, prefixes: list[str]) -> torch.Tensor:\n",
    "    input_folder_base = f\"{folder}/{key}/{obj}\"\n",
    "    output_folder_base = f\"embeddings/{key}/{obj}\"\n",
    "\n",
    "    if not os.path.exists(output_folder_base):\n",
    "                os.makedirs(output_folder_base)\n",
    "\n",
    "    for file_name in os.listdir(input_folder_base):\n",
    "        if file_name.endswith(\".png\"):\n",
    "            with open(os.path.join(input_folder_base, file_name), \"rb\") as f:\n",
    "                image = Image.open(f)\n",
    "                emb = generate_embedding(image)\n",
    "                output_file_name = f\"{output_folder_base}/{file_name.replace('.png', '.pt')}\"\n",
    "                torch.save(emb, output_file_name)\n",
    "        else:\n",
    "            continue"
   ]
  },
  {
   "cell_type": "code",
   "execution_count": 9,
   "metadata": {},
   "outputs": [],
   "source": [
    "from src.utils import for_each_prompt\n",
    "\n",
    "\n",
    "for_each_prompt(\"prompts.json\", \"images\", generate_embeddings)"
   ]
  }
 ],
 "metadata": {
  "kernelspec": {
   "display_name": "ethics",
   "language": "python",
   "name": "python3"
  },
  "language_info": {
   "codemirror_mode": {
    "name": "ipython",
    "version": 3
   },
   "file_extension": ".py",
   "mimetype": "text/x-python",
   "name": "python",
   "nbconvert_exporter": "python",
   "pygments_lexer": "ipython3",
   "version": "3.11.11"
  }
 },
 "nbformat": 4,
 "nbformat_minor": 2
}
